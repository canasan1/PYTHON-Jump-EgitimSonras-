{
 "cells": [
  {
   "cell_type": "markdown",
   "metadata": {},
   "source": [
    "# Problem 1\n",
    "`ogrenciler` adında bir sözlük oluşturunuz. Kullanıcıdan döngü yardımıyla 3 öğrenci için veri girmesini isteyerek öğrencilerin sırasıyla okul numarası, isim, soy isim, telefon numarası ve doğum tarihi bilgilerini alınız. Aldığınız öğrenci bilgilerini yine aynı döngü yardımıyla `ogrenciler` adındaki sözlükte saklayınız. Daha sonra öğrenci bilgilerinin bulunduğu sözlük yapısını ekrana bastırınız.\n",
    "\n"
   ]
  },
  {
   "cell_type": "code",
   "execution_count": null,
   "metadata": {},
   "outputs": [],
   "source": [
    "ogrenciler = {}\n",
    "for i in range(3):\n",
    "    print(f\"{i+1}. Öğrenci Bilgileri:\")\n",
    "    okul_no = input(\"Okul Numarası: \")\n",
    "    isim = input(\"İsim: \")\n",
    "    soyisim = input(\"Soyisim: \")\n",
    "    telefon = input(\"Telefon Numarası: \")\n",
    "    dogum_tarihi = input(\"Doğum Tarihi: \")\n",
    "    \n",
    "    ogrenciler[okul_no] = {\"isim\": isim, \"soyisim\": soyisim, \"telefon\": telefon, \"dogum_tarihi\": dogum_tarihi}\n",
    "\n",
    "print(ogrenciler)\n"
   ]
  },
  {
   "cell_type": "markdown",
   "metadata": {},
   "source": [
    "# Problem 2\n",
    "\n",
    "### a - Biraz ısınarak başlayalım!\n",
    "\n",
    "```\n",
    "numbers = [5,10,10,15,15,15,20,20,20,20]\n",
    "```\n",
    "\n",
    "Yukarıda `numbers` adında 10 elemanlı bir liste verilmiştir. Bu listenin her elemanını kontrol eden ve tekrar eden elemanları bir kez olacak şekilde başka bir listeye kopyalayan bir program yazınız. Son olarak oluşturduğunuz listeyi ekrana bastırınız.\n",
    "\n",
    "\n",
    "\n",
    "\n",
    "```\n",
    ">Output\n",
    "[5, 10, 15, 20]\n",
    "```\n"
   ]
  },
  {
   "cell_type": "code",
   "execution_count": 1,
   "metadata": {},
   "outputs": [
    {
     "name": "stdout",
     "output_type": "stream",
     "text": [
      "[5, 10, 15, 20]\n"
     ]
    }
   ],
   "source": [
    "sayilar = [5,10,10,15,15,15,20,20,20,20]\n",
    "\n",
    "tekrarlamayansayilar = []\n",
    "for sayilar in sayilar:\n",
    "    if sayilar not in tekrarlamayansayilar:\n",
    "        tekrarlamayansayilar.append(sayilar)\n",
    "\n",
    "print(tekrarlamayansayilar)\n"
   ]
  },
  {
   "cell_type": "markdown",
   "metadata": {},
   "source": [
    "### 🌶️ b) Hadi işi biraz daha zorlaştıralım! \n",
    "\n",
    "\n",
    "Şimdiyse senden `numbers` isimli listedeki tekrar eden elemanları `repeatNumbers` adındaki listeye; tekrar etmeyen elemanları `uniqueNumbers`adındaki listeye kopyalayan yazmanı ve listeleri ekrana bastırmanı bekliyoruz\n",
    "\n",
    "```\n",
    ">Output\n",
    "Tekrar Eden Elemanlar: [10, 10, 15, 15, 15, 20, 20, 20, 20]\n",
    "Tekrar Etmeyen Elemanlar: [5]\n",
    "```"
   ]
  },
  {
   "cell_type": "code",
   "execution_count": 6,
   "metadata": {},
   "outputs": [
    {
     "name": "stdout",
     "output_type": "stream",
     "text": [
      "Tekrar Eden Elemanlar: [10, 15, 20]\n",
      "Tekrar Etmeyen Elemanlar: [5, 10, 15, 20]\n"
     ]
    }
   ],
   "source": [
    "sayi = [5,10,10,15,15,15,20,20,20,20]\n",
    "\n",
    "tekrarlisayi = []\n",
    "tekrarsizsayi = []\n",
    "\n",
    "for sayi in sayi:\n",
    "    if sayi not in tekrarsizsayi:\n",
    "        tekrarsizsayi.append(sayi)\n",
    "    elif sayi not in tekrarlisayi:\n",
    "        tekrarlisayi.append(sayi)\n",
    "        \n",
    "print(\"Tekrar Eden Elemanlar:\", tekrarlisayi)\n",
    "print(\"Tekrar Etmeyen Elemanlar:\", tekrarsizsayi)\n"
   ]
  },
  {
   "cell_type": "markdown",
   "metadata": {},
   "source": [
    "# Problem 3\n",
    "sn1 = {1,2,3,4,5}\n",
    "\n",
    "sn2 = {4,5,6,7,8}\n",
    "\n",
    " Verilen 2 adet küme için kesişimlerini, farklarını ve birleşimlerini bulunuz. "
   ]
  },
  {
   "cell_type": "code",
   "execution_count": 7,
   "metadata": {},
   "outputs": [],
   "source": [
    "sn1 = {1,2,3,4,5}\n",
    "sn2 = {4,5,6,7,8}\n",
    "\n",
    "# Kesişim\n",
    "kesisim = sn1.intersection(sn2)\n",
    "print(\"Kesişim: \", kesisim)\n",
    "\n",
    "# Farklar\n",
    "sn1_fark_sn2 = sn1.difference(sn2)\n",
    "print(\"sn1 - sn2 Farkı: \", sn1_fark_sn2)\n",
    "\n",
    "sn2_fark_sn1 = sn2.difference(sn1)\n",
    "print(\"sn2 - sn1 Farkı: \", sn2_fark_sn1)\n",
    "\n",
    "# Birleşim\n",
    "birlesim = sn1.union(sn2)\n",
    "print(\"Birleşim: \", birlesim)\n"
   ]
  },
  {
   "cell_type": "markdown",
   "metadata": {},
   "source": [
    "# Problem 4\n",
    "\n",
    "Buradaki işlemlerimizin tamamı stringler içindir. Aşağıda verilecek olan metodlar için kendinizin örnek yaratması gerekmektedir. \n",
    "\n",
    "Örneğin `upper` için `string` değişkeni oluştururken` k = \"BAC\"` şeklinde oluşturmayınız. Bunun yerine k değişkenini `k = \"bac`\" şeklinde oluşturmanız `upper` metodundaki değişimi görebilmeniz için daha iyi olacaktır.\n",
    "\n",
    "Bütün metodlardaki değişimin gözle görülür şekilde değişimi beklenmektedir.\n",
    "\n",
    "\n",
    "1- capitalize(), lower(), upper(), swapcase(), title(), replace()\n",
    "\n",
    "2- endswith(), startswith(), find(), index(), count()\n",
    "\n",
    "3- split(), strip(), join(), islower(), isalpha(), isdigit()\n",
    "\n",
    "\n",
    "Yukarıdaki `string` metodlarındaki değişimleri görebildiğimiz bir program yazınız.\n"
   ]
  },
  {
   "cell_type": "code",
   "execution_count": 8,
   "metadata": {},
   "outputs": [],
   "source": [
    "# capitalize()\n",
    "print(\"capitalize():\", text.capitalize())\n",
    "\n",
    "# lower()\n",
    "print(\"lower():\", text.lower())\n",
    "\n",
    "# upper()\n",
    "print(\"upper():\", text.upper())\n",
    "\n",
    "# swapcase()\n",
    "print(\"swapcase():\", text.swapcase())\n",
    "\n",
    "# title()\n",
    "print(\"title():\", text.title())\n"
   ]
  }
 ],
 "metadata": {
  "kernelspec": {
   "display_name": "Python 3",
   "language": "python",
   "name": "python3"
  },
  "language_info": {
   "codemirror_mode": {
    "name": "ipython",
    "version": 3
   },
   "file_extension": ".py",
   "mimetype": "text/x-python",
   "name": "python",
   "nbconvert_exporter": "python",
   "pygments_lexer": "ipython3",
   "version": "3.11.2"
  },
  "orig_nbformat": 4,
  "vscode": {
   "interpreter": {
    "hash": "ef6ed5e1df4b9c185b01f84fe75146d810dd78a65b80f6ccc25647b9785ce074"
   }
  }
 },
 "nbformat": 4,
 "nbformat_minor": 2
}
